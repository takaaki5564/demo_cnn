{
 "metadata": {
  "name": "",
  "signature": "sha256:9b97ab0de7ff955019af5cc927f430ec97b01e2fc58809c70d7a30fb293d0fc1"
 },
 "nbformat": 3,
 "nbformat_minor": 0,
 "worksheets": [
  {
   "cells": [
    {
     "cell_type": "code",
     "collapsed": false,
     "input": [
      "#\u30b5\u30f3\u30d7\u30eb\u30b3\u30fc\u30c9\u3067\u983b\u51fa\u306eimport\u6587\n",
      "import numpy as np #\u3088\u304f\u4f7f\u3046\u6570\u5b66\u30e9\u30a4\u30d6\u30e9\u30ea\n",
      "import chainer\n",
      "from chainer import cuda, Function, gradient_check\n",
      "from chainer import report, training, utils, Variable\n",
      "from chainer import datasets, iterators, optimizers, serializers\n",
      "from chainer import Link, Chain, ChainList\n",
      "import chainer.functions as F\n",
      "import chainer.links as L\n",
      "from chainer.training import extensions"
     ],
     "language": "python",
     "metadata": {},
     "outputs": [],
     "prompt_number": 1
    },
    {
     "cell_type": "code",
     "collapsed": false,
     "input": [
      "l1 = L.Linear(4,3) #4\u6b21\u5143\u304b\u30893\u6b21\u5143\u3078\u306e\u7dda\u5f62\u30ea\u30f3\u30af\n",
      "l2 = L.Linear(3,2) #3\u6b21\u5143\u304b\u30892\u6b21\u5143\u3078\u306e\u7dda\u5f62\u30ea\u30f3\u30af\n",
      "def my_forward(x):\n",
      "    h = l1(x)\n",
      "    return l2(h) #\u591a\u5c64\u30d1\u30fc\u30bb\u30d7\u30c8\u30ed\u30f3\u306e\u51fa\u529b"
     ],
     "language": "python",
     "metadata": {},
     "outputs": [],
     "prompt_number": 3
    },
    {
     "cell_type": "code",
     "collapsed": false,
     "input": [
      "class MyProc(object):\n",
      "    def __init__(self):\n",
      "        self.l1 = L.Linear(4,3) #\u8907\u6570\u306eLink\u3092\u7d44\u307f\u5408\u308f\u305b\u308b\n",
      "        self.l2 = L.Linear(3,2)\n",
      "    \n",
      "    def forward(self, x):\n",
      "        h = self.l1(x)\n",
      "        return self.l2(h)"
     ],
     "language": "python",
     "metadata": {},
     "outputs": [],
     "prompt_number": 5
    },
    {
     "cell_type": "code",
     "collapsed": false,
     "input": [
      "class MyChain(Chain): #\u518d\u5229\u7528\u6027\u3092\u9ad8\u3081\u308b\u305f\u3081\u306bChain\u3092\u5229\u7528\n",
      "    def __init__(self):\n",
      "        super(MyChain, self).__init__(\n",
      "            l1 = L.Linear(4, 3),\n",
      "            L2 = L.Linear(3, 2),\n",
      "        )\n",
      "    def __call__(self, x): #Link\u306e1\u3064\u306eforward\u30e1\u30bd\u30c3\u30c9\n",
      "        h = self.l1(x)\n",
      "        return self.l2(h)"
     ],
     "language": "python",
     "metadata": {},
     "outputs": [],
     "prompt_number": 8
    },
    {
     "cell_type": "code",
     "collapsed": false,
     "input": [
      "class MyChain2(ChainList):\n",
      "    def __init__(self):\n",
      "        super(MyChain2, self).__init__(\n",
      "            L.Linear(4,3),\n",
      "            L.Linear(3,2),\n",
      "        )\n",
      "    def __call__(self, x):\n",
      "        h = self[0](x)\n",
      "        return self[1](h)"
     ],
     "language": "python",
     "metadata": {},
     "outputs": [],
     "prompt_number": 9
    },
    {
     "cell_type": "code",
     "collapsed": false,
     "input": [],
     "language": "python",
     "metadata": {},
     "outputs": []
    }
   ],
   "metadata": {}
  }
 ]
}