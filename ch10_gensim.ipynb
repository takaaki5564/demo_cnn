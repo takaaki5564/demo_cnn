{
 "metadata": {
  "name": "",
  "signature": "sha256:6ea819cfc3263fb2743dba7f15f415a9b7bb4d5472eaed4a6569fd2cbbe1d2f4"
 },
 "nbformat": 3,
 "nbformat_minor": 0,
 "worksheets": [
  {
   "cells": [
    {
     "cell_type": "code",
     "collapsed": false,
     "input": [
      "# \n",
      "from gensim import corpora, models, similarities"
     ],
     "language": "python",
     "metadata": {},
     "outputs": [],
     "prompt_number": 4
    },
    {
     "cell_type": "code",
     "collapsed": false,
     "input": [
      "gensim.__version__"
     ],
     "language": "python",
     "metadata": {},
     "outputs": [
      {
       "metadata": {},
       "output_type": "pyout",
       "prompt_number": 3,
       "text": [
        "'0.13.1'"
       ]
      }
     ],
     "prompt_number": 3
    },
    {
     "cell_type": "code",
     "collapsed": false,
     "input": [
      "documents = [\"Human machine interface for lab abc computer application.\",\n",
      "            \"Graph minors A survey\",\n",
      "            \"System and human system engineering testing of EPS\"]"
     ],
     "language": "python",
     "metadata": {},
     "outputs": [],
     "prompt_number": 14
    },
    {
     "cell_type": "code",
     "collapsed": false,
     "input": [
      "# remove common words and tokenize\n",
      "stoplist = set('for a of the and to in'.split())\n",
      "texts = [[word for word in document.lower().split() \n",
      "          if word not in stoplist] for document in documents]\n",
      "# remove words that appear only once\n",
      "all_tokens = sum(texts, [])\n",
      "tokens_once = set(word for word in set(all_tokens) \n",
      "                  if all_tokens.count(word) == 1)"
     ],
     "language": "python",
     "metadata": {},
     "outputs": [],
     "prompt_number": 15
    },
    {
     "cell_type": "code",
     "collapsed": false,
     "input": [
      "text = [[word for word in text if word not in tokens_once] \n",
      "        for text in texts]\n",
      "print(texts)"
     ],
     "language": "python",
     "metadata": {},
     "outputs": [
      {
       "output_type": "stream",
       "stream": "stdout",
       "text": [
        "[['human', 'machine', 'interface', 'lab', 'abc', 'computer', 'application.'], ['graph', 'minors', 'survey'], ['system', 'human', 'system', 'engineering', 'testing', 'eps']]\n"
       ]
      }
     ],
     "prompt_number": 16
    },
    {
     "cell_type": "code",
     "collapsed": false,
     "input": [
      "dictionary = corpora.Dictionary(texts)\n",
      "dictionary.save('/tmp/deerwester.dict')\n",
      "# store the dictionary, for future reference\n",
      "# save text\n",
      "dictionary.save_as_text('/tmp/deerwester_text.dict')"
     ],
     "language": "python",
     "metadata": {},
     "outputs": [],
     "prompt_number": 17
    },
    {
     "cell_type": "code",
     "collapsed": false,
     "input": [
      "print(dictionary.token2id)"
     ],
     "language": "python",
     "metadata": {},
     "outputs": [
      {
       "output_type": "stream",
       "stream": "stdout",
       "text": [
        "{'engineering': 11, 'minors': 8, 'system': 12, 'application.': 2, 'graph': 9, 'human': 5, 'eps': 13, 'interface': 0, 'lab': 1, 'abc': 3, 'testing': 10, 'survey': 7, 'computer': 4, 'machine': 6}\n"
       ]
      }
     ],
     "prompt_number": 18
    },
    {
     "cell_type": "code",
     "collapsed": false,
     "input": [
      "new_doc = \"Human computer interaction system abc abc\"\n",
      "new_vec = dictionary.doc2bow(new_doc.lower().split())\n",
      "print(new_vec)\n",
      "# the word \"interaction\" does not appear in the dictionary\n",
      "# and is ignored "
     ],
     "language": "python",
     "metadata": {},
     "outputs": [
      {
       "output_type": "stream",
       "stream": "stdout",
       "text": [
        "[(3, 2), (4, 1), (5, 1), (12, 1)]\n"
       ]
      }
     ],
     "prompt_number": 24
    },
    {
     "cell_type": "code",
     "collapsed": false,
     "input": [
      "# corpus = feature vector of all text\n",
      "# doc2bow\n",
      "corpus = [dictionary.doc2bow(text) for text in texts]\n",
      "# STORE TO DISK, FOR LATER USE\n",
      "corpora.MmCorpus.serialize('/tmp/deerwester.mm', corpus)\n",
      "print(corpus)"
     ],
     "language": "python",
     "metadata": {},
     "outputs": [
      {
       "output_type": "stream",
       "stream": "stdout",
       "text": [
        "[[(0, 1), (1, 1), (2, 1), (3, 1), (4, 1), (5, 1), (6, 1)], [(7, 1), (8, 1), (9, 1)], [(5, 1), (10, 1), (11, 1), (12, 2), (13, 1)]]\n"
       ]
      }
     ],
     "prompt_number": 26
    },
    {
     "cell_type": "code",
     "collapsed": false,
     "input": [
      "# corpus\u306e\u985e\u4f3c\u5ea6\u3092\u6e2c\u5b9a\u3002\u985e\u4f3c\u306e\u3082\u306e\u3092\u4e0a\u4f4d10\u4ef6\u62bd\u51fa\n",
      "index = similarities.docsim.SparseMatrixSimilarity(corpus, \n",
      "                                            num_features=len(dictionary))\n",
      "# Matrix Market file\u3092\u547c\u3073\u51fa\u3059\n",
      "corpus = corpora.MmCorpus('/tmp/deerwester.mm')"
     ],
     "language": "python",
     "metadata": {},
     "outputs": [],
     "prompt_number": 31
    },
    {
     "cell_type": "code",
     "collapsed": false,
     "input": [
      "# corpus\u306e\u8a13\u7df4\u306e\u305f\u3081tfidf\u30aa\u30d6\u30b8\u30a7\u30af\u30c8\u3092\u4f5c\u308b\n",
      "tfidf = models.TfidfModel(corpus)"
     ],
     "language": "python",
     "metadata": {},
     "outputs": [],
     "prompt_number": 32
    },
    {
     "cell_type": "code",
     "collapsed": false,
     "input": [
      "doc_bow = [(0,1), (1,1)]\n",
      "print(tfidf[doc_bow])\n",
      "# step 2 -- use the model to transform vectors\n",
      "# \u7279\u5fb4\u30d9\u30af\u30c8\u30eb\u304ctfidf\u30d9\u30af\u30c8\u30eb\u7a7a\u9593\u306e\u30d9\u30af\u30c8\u30eb\u306b\u5909\u63db"
     ],
     "language": "python",
     "metadata": {},
     "outputs": [
      {
       "output_type": "stream",
       "stream": "stdout",
       "text": [
        "[(0, 0.7071067811865475), (1, 0.7071067811865475)]\n"
       ]
      }
     ],
     "prompt_number": 40
    },
    {
     "cell_type": "code",
     "collapsed": false,
     "input": [
      "# \u3053\u308c\u3092corpus\u306b\u9069\u7528\u3000\u4e00\u5ea6\u4f7f\u3063\u305f\u30c7\u30fc\u30bf\u3092\u305d\u306e\u30c7\u30fc\u30bf\u304c\n",
      "# training\u3067\u4f5c\u3063\u305ftfidf\u7a7a\u9593\u3078\u3068\u5909\u63db\u3059\u308b\n",
      "corpus_tfidf = tfidf[corpus]"
     ],
     "language": "python",
     "metadata": {},
     "outputs": [],
     "prompt_number": 41
    },
    {
     "cell_type": "code",
     "collapsed": false,
     "input": [
      "# ifidf\u7a7a\u9593\u306blsi\u30e2\u30c7\u30eb\u3092\u4f5c\u6210\u3002lsi\u3067\u5206\u985e\u3055\u308c\u305f\u3082\u306e\u306ecorpus\u3092\u62bd\u51fa\n",
      "lsi = models.LsiModel(corpus_tfidf, id2word=dictionary, num_topics=2)\n",
      "corpus_lsi = lsi[corpus_tfidf]\n",
      "# create a double wrapper over the original corpus: \n",
      "# bow->tfidf->fold-in-lsi"
     ],
     "language": "python",
     "metadata": {},
     "outputs": [],
     "prompt_number": 42
    },
    {
     "cell_type": "code",
     "collapsed": false,
     "input": [
      "lsi.print_topics(2)"
     ],
     "language": "python",
     "metadata": {},
     "outputs": [
      {
       "metadata": {},
       "output_type": "pyout",
       "prompt_number": 43,
       "text": [
        "[(0,\n",
        "  '0.524*\"system\" + 0.283*\"lab\" + 0.283*\"interface\" + 0.283*\"machine\" + 0.283*\"computer\" + 0.283*\"abc\" + 0.283*\"application.\" + 0.262*\"eps\" + 0.262*\"engineering\" + 0.262*\"testing\"'),\n",
        " (1,\n",
        "  '-0.577*\"survey\" + -0.577*\"graph\" + -0.577*\"minors\" + -0.000*\"system\" + -0.000*\"testing\" + -0.000*\"engineering\" + -0.000*\"eps\" + -0.000*\"human\" + 0.000*\"lab\" + -0.000*\"application.\"')]"
       ]
      }
     ],
     "prompt_number": 43
    },
    {
     "cell_type": "code",
     "collapsed": false,
     "input": [
      "# both bow->tfidf and ifidf->lsi transform are\n",
      "# actually executed here, on the fly\n",
      "for doc in corpus_lsi:\n",
      "    print(doc)\n",
      "# \"Human machine interface for lab abc computer application.\",\n",
      "# \"Graph minors A survey\",\n",
      "# \"System and human system engineering testing of EPS\"]"
     ],
     "language": "python",
     "metadata": {},
     "outputs": [
      {
       "output_type": "stream",
       "stream": "stdout",
       "text": [
        "[(0, 0.71434732401216139)]\n",
        "[(1, -1.0)]\n",
        "[(0, 0.71434732401217405)]\n"
       ]
      }
     ],
     "prompt_number": 44
    },
    {
     "cell_type": "code",
     "collapsed": false,
     "input": [
      "lsi.save('/tmp/model.lsi')"
     ],
     "language": "python",
     "metadata": {},
     "outputs": [],
     "prompt_number": 46
    },
    {
     "cell_type": "code",
     "collapsed": false,
     "input": [
      "lda = models.LdaModel(corpus=corpus_tfidf, id2word=dictionary, num_topics=100)\n",
      "print(lda.print_topics(2))"
     ],
     "language": "python",
     "metadata": {},
     "outputs": [
      {
       "output_type": "stream",
       "stream": "stderr",
       "text": [
        "WARNING:gensim.models.ldamodel:too few updates, training might not converge; consider increasing the number of passes or iterations to improve accuracy\n"
       ]
      },
      {
       "output_type": "stream",
       "stream": "stdout",
       "text": [
        "[(73, '0.071*minors + 0.071*machine + 0.071*system + 0.071*engineering + 0.071*testing + 0.071*graph + 0.071*interface + 0.071*survey + 0.071*application. + 0.071*computer'), (36, '0.071*minors + 0.071*machine + 0.071*system + 0.071*engineering + 0.071*testing + 0.071*graph + 0.071*interface + 0.071*survey + 0.071*application. + 0.071*computer')]\n"
       ]
      }
     ],
     "prompt_number": 51
    },
    {
     "cell_type": "code",
     "collapsed": false,
     "input": [],
     "language": "python",
     "metadata": {},
     "outputs": []
    }
   ],
   "metadata": {}
  }
 ]
}