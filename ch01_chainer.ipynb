{
 "metadata": {
  "name": "",
  "signature": "sha256:403c73ad095e60bd9759cab2df71f52b44ab0562d199ec46dd9c767da341ea22"
 },
 "nbformat": 3,
 "nbformat_minor": 0,
 "worksheets": [
  {
   "cells": [
    {
     "cell_type": "code",
     "collapsed": false,
     "input": [
      "#\u30b5\u30f3\u30d7\u30eb\u30b3\u30fc\u30c9\u3067\u3088\u304f\u4f7f\u308f\u308c\u308bimport\u6587\n",
      "import numpy as np #\u3088\u304f\u4f7f\u3046\u6570\u5b66\u30e9\u30a4\u30d6\u30e9\u30ea\n",
      "import chainer\n",
      "from chainer import cuda, Function, gradient_check\n",
      "from chainer import report, training, utils, Variable\n",
      "from chainer import datasets, iterators, optimizers, serializers\n",
      "from chainer import Link, Chain, ChainList\n",
      "import chainer.functions as F\n",
      "import chainer.link as L\n",
      "from chainer.training import extensions"
     ],
     "language": "python",
     "metadata": {},
     "outputs": [],
     "prompt_number": 4
    },
    {
     "cell_type": "code",
     "collapsed": false,
     "input": [
      "x_data = np.array([5], dtype=np.float32) #\uff11\u500b\u306e\u8981\u7d20\u3092\u3082\u3064\u914d\u5217\n",
      "x = Variable(x_data) #Variable\u30aa\u30d6\u30b8\u30a7\u30af\u30c8\u3092\u5165\u529b\u3068\u3059\u308b\n",
      "y = x ** 2"
     ],
     "language": "python",
     "metadata": {},
     "outputs": [],
     "prompt_number": 40
    },
    {
     "cell_type": "code",
     "collapsed": false,
     "input": [
      "y.data\n",
      "y.backward()#\u8aa4\u5dee\u9006\u4f1d\u642c\u3092\u8d70\u3089\u305b\u3066\uff58\u306e\u5fae\u5206\u5f0f\u3092grad\u30d5\u30a3\u30fc\u30eb\u30c9\u306b\u4fdd\u5b58"
     ],
     "language": "python",
     "metadata": {},
     "outputs": [],
     "prompt_number": 41
    },
    {
     "cell_type": "code",
     "collapsed": false,
     "input": [
      "x.grad #dy/dx=2*x"
     ],
     "language": "python",
     "metadata": {},
     "outputs": [
      {
       "metadata": {},
       "output_type": "pyout",
       "prompt_number": 42,
       "text": [
        "array([ 10.], dtype=float32)"
       ]
      }
     ],
     "prompt_number": 42
    },
    {
     "cell_type": "code",
     "collapsed": false,
     "input": [
      "#\u4e2d\u9593\u5909\u6570\u306e\u52fe\u914d\u3082\u8a08\u7b97\u3055\u308c\uff52\n",
      "z = 4*x\n",
      "y = x**2 - z*5\n",
      "y.backward(retain_grad=True) #dy/dz=-1*5, dy/dx=2*x-20\n",
      "z.grad"
     ],
     "language": "python",
     "metadata": {},
     "outputs": [
      {
       "metadata": {},
       "output_type": "pyout",
       "prompt_number": 43,
       "text": [
        "array([-5.], dtype=float32)"
       ]
      }
     ],
     "prompt_number": 43
    },
    {
     "cell_type": "code",
     "collapsed": false,
     "input": [
      "x.grad"
     ],
     "language": "python",
     "metadata": {},
     "outputs": [
      {
       "metadata": {},
       "output_type": "pyout",
       "prompt_number": 45,
       "text": [
        "array([ 0.], dtype=float32)"
       ]
      }
     ],
     "prompt_number": 45
    },
    {
     "cell_type": "code",
     "collapsed": false,
     "input": [],
     "language": "python",
     "metadata": {},
     "outputs": []
    }
   ],
   "metadata": {}
  }
 ]
}