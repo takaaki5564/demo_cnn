{
 "metadata": {
  "name": "",
  "signature": "sha256:e4fe2de6826f5761108ecf9eaf3c6c11ca3f21fe82f87ea93f84bdcb6b499915"
 },
 "nbformat": 3,
 "nbformat_minor": 0,
 "worksheets": [
  {
   "cells": [
    {
     "cell_type": "code",
     "collapsed": false,
     "input": [
      "from chainer import optimizers, cuda, serializers\n",
      "import chainer.functions as F\n",
      "import chainer.links as L\n",
      "from chainer import FunctionSet, Variable\n",
      "import numpy as np"
     ],
     "language": "python",
     "metadata": {},
     "outputs": [],
     "prompt_number": 12
    },
    {
     "cell_type": "code",
     "collapsed": false,
     "input": [
      "model = FunctionSet(l1 = L.Linear(4,1))\n",
      "x_data = np.random.rand(1,4) * 100\n",
      "x_data = x_data.astype(np.float32)\n",
      "x = Variable(x_data)"
     ],
     "language": "python",
     "metadata": {},
     "outputs": [],
     "prompt_number": 14
    },
    {
     "cell_type": "code",
     "collapsed": false,
     "input": [
      "print(float(model.l1(x).data))"
     ],
     "language": "python",
     "metadata": {},
     "outputs": [
      {
       "output_type": "stream",
       "stream": "stdout",
       "text": [
        "95.62371826171875\n"
       ]
      }
     ],
     "prompt_number": 15
    }
   ],
   "metadata": {}
  }
 ]
}