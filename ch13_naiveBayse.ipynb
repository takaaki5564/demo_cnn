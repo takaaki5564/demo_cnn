{
 "metadata": {
  "name": "",
  "signature": "sha256:c9842285f494584081ef8c780a81529316ba94ac503d001e8a1ce0384e17d8e8"
 },
 "nbformat": 3,
 "nbformat_minor": 0,
 "worksheets": [
  {
   "cells": [
    {
     "cell_type": "code",
     "collapsed": false,
     "input": [
      "#coding:utf-8\n",
      "import math\n",
      "import sys\n",
      "from collections import defaultdict"
     ],
     "language": "python",
     "metadata": {},
     "outputs": [],
     "prompt_number": 1
    },
    {
     "cell_type": "code",
     "collapsed": false,
     "input": [
      "class NaiveBayse:\n",
      "    \"\"\"Multinominal Naive Bayse\"\"\"\n",
      "    def __init__(self):\n",
      "        self.categories = set()    # \u30ab\u30c6\u30b4\u30ea\u306e\u96c6\u5408\n",
      "        self.vocabularies = set()  # \u30dc\u30ad\u30e3\u30d6\u30e9\u30ea\u306e\u96c6\u5408\n",
      "        self.wordcount = {}        # wordcount[cat][word] \u30ab\u30c6\u30b4\u30ea\u306e\u5358\u8a9e\u306e\u51fa\u73fe\u56de\u6570\n",
      "        self.catcount = {}         # catcount[cat] \u30ab\u30c6\u30b4\u30ea\u306e\u51fa\u73fe\u56de\u6570\n",
      "        self.denominator = {}      # denominator[cat] P(word|cat)\u306e\u5206\u6bcd\u306e\u5024\n",
      "    \n",
      "    def train(self, data):\n",
      "        \"\"\"\u30ca\u30a4\u30fc\u30d6\u30d9\u30a4\u30ba\u5206\u985e\u5668\u306e\u8a13\u7df4\"\"\"\n",
      "        # \u6587\u66f8\u96c6\u5408\u304b\u3089\u30ab\u30c6\u30b4\u30ea\u3092\u62bd\u51fa\u3057\u3066\u8f9e\u66f8\u3092\u521d\u671f\u5316\n",
      "        for d in data: # \u8a13\u7df4\u30c7\u30fc\u30bf\u306f\u30ea\u30b9\u30c8\u306e\u30ea\u30b9\u30c8\u3067\u30010\u756a\u76ee\u306e\u8981\u7d20\u304c\u30ab\u30c6\u30b4\u30ea\n",
      "            cat = d[0]\n",
      "            self.categories.add(cat)\n",
      "        for cat in self.categories:\n",
      "            self.wordcount[cat] = defaultdict(int) # 2\u6b21\u5143\u914d\u5217\u306e\u5404\u8981\u7d20\u306b\u30c7\u30d5\u30a9\u30eb\u30c8(0)\u3092\u8a2d\u5b9a\n",
      "            self.catcount[cat] = 0\n",
      "        # \u6587\u66f8\u96c6\u5408\u304b\u3089\u30ab\u30c6\u30b4\u30ea\u3068\u5358\u8a9e\u3092\u30ab\u30a6\u30f3\u30c8\n",
      "        for d in data:\n",
      "            cat, doc = d[0], d[1:]\n",
      "            self.catcount[cat] += 1\n",
      "            for word in doc:\n",
      "                self.vocabularies.add(word)\n",
      "                self.wordcount[cat][word] += 1\n",
      "        # \u5358\u8a9e\u306e\u6761\u4ef6\u4ed8\u304d\u78ba\u7387\u306e\u5206\u6bcd\u3092\u3042\u3089\u304b\u3058\u3081\u4e00\u62ec\u8a08\u7b97\u3057\u3066\u304a\u304f(\u9ad8\u901f\u5316\u306e\u305f\u3081)\n",
      "        for cat in self.categories:\n",
      "            self.denominator[cat] = sum(self.wordcount[cat].values())+len(self.vocabularies)  # \u5206\u6bcd\u306f\u30ab\u30a6\u30f3\u30c8\u306e\u7dcf\u548c\n",
      "    \n",
      "    def classify(self, doc):\n",
      "        \"\"\"\u4e8b\u5f8c\u78ba\u7387\u306e\u5bfe\u6570 log(P(cat|doc))\u304c\u3082\u3063\u3068\u3082\u5927\u304d\u306a\u30ab\u30c6\u30b4\u30ea\u3092\u8fd4\u3059\"\"\"\n",
      "        best = None\n",
      "        max = -sys.maxsize # Python3.X\u306b\u3066long\u3068int\u304c\u7d71\u5408\u3002maxint->maxsize\n",
      "        for cat in self.catcount.keys():\n",
      "            p = self.score(doc, cat)\n",
      "            if p > max:\n",
      "                max = p\n",
      "                best = cat\n",
      "        return best\n",
      "    \n",
      "    def wordProb(self, word, cat):\n",
      "        \"\"\"\u4e8b\u5f8c\u78ba\u7387\u306e\u5bfe\u6570 log(P(cat|doc))\u304c\u6700\u3082\u5927\u304d\u306a\u30ab\u30c6\u30b4\u30ea\u3092\u8fd4\u3059\"\"\"\n",
      "        # \u30e9\u30d7\u30e9\u30b9\u30b9\u30e0\u30fc\u30b8\u30f3\u30b0\u3092\u9069\u7528\n",
      "        # wordcount[cat]\u306fdefaultdict(int)\u306a\u306e\u3067\u30ab\u30c6\u30b4\u30ea\u306b\u5b58\u5728\u3057\u306a\u3044\u5358\u8a9e\u306f\u30c7\u30d5\u30a9\u30eb\u30c8\u30670\u3092\u8fd4\u3059\n",
      "        # \u5206\u6bcd\u306ftrain()\u306e\u6700\u5f8c\u3067\u4e00\u62ec\u8a08\u7b97\u6e08\u307f\n",
      "        return float(self.wordcount[cat][word]+1) / float(self.denominator[cat])\n",
      "    \n",
      "    def score(self, doc, cat):\n",
      "        \"\"\"\u6587\u66f8\u304c\u4e0e\u3048\u3089\u308c\u305f\u3068\u304d\u306e\u30ab\u30c6\u30b4\u30ea\u306e\u4e8b\u5f8c\u78ba\u7387\u306e\u5bfe\u6570log(P(cat|doc))\u3092\u6c42\u3081\u308b\"\"\"\n",
      "        total = sum(self.catcount.values())  # \u7dcf\u6587\u66f8\u6570\n",
      "        score = math.log(float(self.catcount[cat])/total) # log P(cat)\n",
      "        for word in doc:\n",
      "            # log\u3092\u3068\u308b\u3068\u639b\u3051\u7b97\u306f\u8db3\u3057\u7b97\u306b\u306a\u308b\n",
      "            score += math.log(self.wordProb(word, cat)) # log P(word|cat)\n",
      "        return score\n",
      "    \n",
      "    def __str__(self):\n",
      "        total = sum(self.catcount.values()) # \u7dcf\u6587\u66f8\u6570\n",
      "        return \"documents: %d, vocabularies: %d, categories: %d\" %\\\n",
      "                        (total, len(self.vocabularies), len(self.categories))"
     ],
     "language": "python",
     "metadata": {},
     "outputs": [],
     "prompt_number": 9
    },
    {
     "cell_type": "code",
     "collapsed": false,
     "input": [
      "if __name__ == \"__main__\":\n",
      "    # Intrduction to Information Retrieval 13.2\u306e\u4f8b\u984c\n",
      "    data = [[\"yes\", \"Chinese\", \"Beijing\", \"Chinese\"],\n",
      "            [\"yes\", \"Chinese\", \"Chinese\", \"Shanghai\"],\n",
      "            [\"yes\", \"Chinese\", \"Macao\"],\n",
      "            [\"no\", \"Tokyo\", \"Japan\", \"Chinese\"]]\n",
      "    \n",
      "    # \u30ca\u30a4\u30fc\u30d6\u30d9\u30a4\u30ba\u5206\u985e\u5668\u3092\u8a13\u7df4\n",
      "    nb = NaiveBayse()\n",
      "    nb.train(data)\n",
      "    print(nb)\n",
      "    print(\"P(Chinese|yes) = \", nb.wordProb(\"Chinese\", \"yes\"))\n",
      "    print(\"P(Tokyo|yes) = \", nb.wordProb(\"Tokyo\", \"yes\"))\n",
      "    print(\"P(Japan|yes) = \", nb.wordProb(\"japan\", \"yes\"))\n",
      "    print(\"P(Chinese|no) = \", nb.wordProb(\"Chinese\", \"no\"))\n",
      "    print(\"P(Tokyo|no) = \", nb.wordProb(\"Tokyo\", \"no\"))\n",
      "    print(\"P(Japan|no) = \", nb.wordProb(\"Japan\", \"no\"))\n",
      "    \n",
      "    # \u30c6\u30b9\u30c8\u30c7\u30fc\u30bf\u306e\u30ab\u30c6\u30b4\u30ea\u3092\u4e88\u6e2c\n",
      "    test = [\"Chinese\", \"Chinese\", \"Chinese\", \"Tokyo\", \"Japan\"]\n",
      "    #print(\"log P(yes|test) ={}\".format(nb.score(test, \"yes\")))\n",
      "    #print(\"log P(no|test) = {}\".format(nb.score(test, \"no\")))\n",
      "    print(\"P(yes|test) ={}\".format(nb.score(test, \"yes\")))\n",
      "    print(\"P(no|test) = {}\".format(nb.score(test, \"no\")))\n",
      "    print(nb.classify(test))"
     ],
     "language": "python",
     "metadata": {},
     "outputs": [
      {
       "output_type": "stream",
       "stream": "stdout",
       "text": [
        "documents: 4, vocabularies: 6, categories: 2\n",
        "P(Chinese|yes) =  0.42857142857142855\n",
        "P(Tokyo|yes) =  0.07142857142857142\n",
        "P(Japan|yes) =  0.07142857142857142\n",
        "P(Chinese|no) =  0.2222222222222222\n",
        "P(Tokyo|no) =  0.2222222222222222\n",
        "P(Japan|no) =  0.2222222222222222\n",
        "log P(yes|test) =-8.10769031284391\n",
        "log P(no|test) = -8.906681345001262\n",
        "yes\n"
       ]
      }
     ],
     "prompt_number": 10
    },
    {
     "cell_type": "code",
     "collapsed": false,
     "input": [],
     "language": "python",
     "metadata": {},
     "outputs": []
    }
   ],
   "metadata": {}
  }
 ]
}