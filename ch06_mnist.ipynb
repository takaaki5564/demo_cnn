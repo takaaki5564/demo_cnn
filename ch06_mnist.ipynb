{
 "metadata": {
  "name": "",
  "signature": "sha256:2ab7a35527a93286e3b0671922799108ec5300280ce02ac1cdca4a52de02be5b"
 },
 "nbformat": 3,
 "nbformat_minor": 0,
 "worksheets": [
  {
   "cells": [
    {
     "cell_type": "code",
     "collapsed": false,
     "input": [
      "%matplotlib inline\n",
      "import matplotlib.pyplot as plt\n",
      "import time\n",
      "import six\n",
      "import numpy as np\n",
      "from sklearn.datasets import fetch_mldata\n",
      "import chainer\n",
      "from chainer import cuda, Function, gradient_check, Variable, optimizers, serializers, utils\n",
      "import chainer.functions as F\n",
      "import chainer.links as L\n",
      "\n",
      "l1_W = []\n",
      "l2_W = []\n",
      "l3_W = []"
     ],
     "language": "python",
     "metadata": {},
     "outputs": [],
     "prompt_number": 1
    },
    {
     "cell_type": "code",
     "collapsed": false,
     "input": [
      "plt.style.use('ggplot')"
     ],
     "language": "python",
     "metadata": {},
     "outputs": [],
     "prompt_number": 2
    },
    {
     "cell_type": "code",
     "collapsed": false,
     "input": [
      "#\u78ba\u7387\u7684\u52fe\u914d\u6cd5\u3067\u5b66\u7fd2\u3055\u305b\u308b\u969b\u306e\uff11\u56de\u5206\u306e\u30d0\u30c3\u30c1\u30b5\u30a4\u30ba\n",
      "#\u4e00\u5ea6\u306e\u5b66\u7fd2\u306b\u4f7f\u7528\u3059\u308b\u30b5\u30f3\u30d7\u30eb\u306e\u6570\n",
      "batchsize = 100\n",
      "\n",
      "#\u5b66\u7fd2\u306e\u7e70\u308a\u8fd4\u3057\u56de\u6570\n",
      "n_epoch = 1\n",
      "\n",
      "#\u4e2d\u9593\u5c64\u306e\u6570\u3001\u5165\u529b\u306f784\u3067\u4e2d\u9593\u5c64\u304c1000\u6b21\u5143 x \n",
      "#\u51fa\u529b\u5c64\u306f10\u500b\u306e\u6570\u5b57\u3092\u8b58\u5225\u3059\u308b\u306e\u306710\n",
      "n_units = 1000\n",
      "\n",
      "#MNIST\u306e\u624b\u66f8\u304d\u6570\u5b57\u30c7\u30fc\u30bf\u3092\u30ed\u30fc\u30ab\u30eb\u306b\u4fdd\u5b58\uff08\u30d5\u30a7\u30c3\u30c1\uff09\n",
      "#HOME/scikit_learn_data/mldata/mnist-original.mat\u306b\u30ad\u30e3\u30c3\u30b7\u30e5\u3055\u308c\u308b\n",
      "mnist = fetch_mldata('MNIST original')\n",
      "#MNIST.data\u306f70,000\u4ef6\u306e784\u6b21\u5143\u30d9\u30af\u30c8\u30eb\u30c7\u30fc\u30bf\n",
      "mnist.data = mnist.data.astype(np.float32)\n",
      "#0-1\u306e\u7bc4\u56f2\u306b\u5909\u63db\n",
      "mnist.data /= 255\n",
      "#\u6b63\u89e3\u30c7\u30fc\u30bf\uff08\u6559\u5e2b\u30c7\u30fc\u30bf\uff09\n",
      "mnist.target = mnist.target.astype(np.int32)"
     ],
     "language": "python",
     "metadata": {},
     "outputs": [],
     "prompt_number": 3
    },
    {
     "cell_type": "code",
     "collapsed": false,
     "input": [
      "def draw_digit(data):\n",
      "    size = 28\n",
      "    plt.figure(figsize=(2.5, 3))\n",
      "    \n",
      "    X,Y = np.meshgrid(range(size), range(size))\n",
      "    Z = data.reshape(size, size)\n",
      "    Z = Z[::-1,:]\n",
      "    plt.xlim(0,27)\n",
      "    plt.ylim(0,27)\n",
      "    plt.pcolor(X,Y,Z)\n",
      "    plt.gray()\n",
      "    plt.tick_params(labelbottom=\"off\")\n",
      "    plt.tick_params(labelleft=\"off\")\n",
      "    \n",
      "    plt.show()\n",
      "\n",
      "draw_digit(mnist.data[5])\n",
      "draw_digit(mnist.data[12345])\n",
      "draw_digit(mnist.data[33456])"
     ],
     "language": "python",
     "metadata": {},
     "outputs": [
      {
       "metadata": {},
       "output_type": "display_data",
       "png": "[encoded data removed]",
       "text": [
        "<matplotlib.figure.Figure at 0x7f6016880860>"
       ]
      },
      {
       "metadata": {},
       "output_type": "display_data",
       "png": "[encoded data removed]",
       "text": [
        "<matplotlib.figure.Figure at 0x7f60163a3cc0>"
       ]
      },
      {
       "metadata": {},
       "output_type": "display_data",
       "png": "[encoded data removed]",
       "text": [
        "<matplotlib.figure.Figure at 0x7f60163a3da0>"
       ]
      }
     ],
     "prompt_number": 4
    },
    {
     "cell_type": "code",
     "collapsed": false,
     "input": [
      "#\u5b66\u7fd2\u7528\u30c7\u30fc\u30bf\u3092N\u500b\u3001\u691c\u8a3c\u7528\u30c7\u30fc\u30bf\u3092\u6b8b\u308a\u306e\u500b\u6570\u3068\u8a2d\u5b9a\n",
      "N = 60000\n",
      "#split\u3067N\u500b\u5206\u3092\u5206\u5272\u3057\u3066x_train, x_test\u306b\u683c\u7d0d\n",
      "x_train, x_test = np.split(mnist.data, [N])\n",
      "y_train, y_test = np.split(mnist.target, [N])\n",
      "N_test = y_test.size"
     ],
     "language": "python",
     "metadata": {},
     "outputs": [],
     "prompt_number": 5
    },
    {
     "cell_type": "code",
     "collapsed": false,
     "input": [
      "class MLPModel(chainer.Chain):\n",
      "    def __init__(self, n_in, n_units, n_out):\n",
      "        super(MLPModel, self).__init__(\n",
      "            l1 = L.Linear(n_in, n_units),\n",
      "            l2 = L.Linear(n_units, n_units),\n",
      "            l3 = L.Linear(n_units, n_out), #\u4e2d\u9593\u5c64\u306f2\u5c64\u306e\u8a084\u5c64\u306e\u30d1\u30fc\u30bb\u30d7\u30c8\u30ed\u30f3\uff08MLP)\n",
      "        )\n",
      "    \n",
      "    def __call__(self, x):\n",
      "        h1 = F.relu(self.l1(x))\n",
      "        h2 = F.relu(self.l2(h1))\n",
      "        return self.l3(h2)"
     ],
     "language": "python",
     "metadata": {},
     "outputs": [],
     "prompt_number": 6
    },
    {
     "cell_type": "code",
     "collapsed": false,
     "input": [
      "#\u5165\u529b\u753b\u50cf\u304c28x28\u306e784\u6b21\u5143\uff1d\u5165\u529b\u7d20\u5b50\u306e\u6570\n",
      "net = MLPModel(784, n_units, 10)"
     ],
     "language": "python",
     "metadata": {},
     "outputs": [],
     "prompt_number": 7
    },
    {
     "cell_type": "code",
     "collapsed": false,
     "input": [
      "model = L.Classifier(net)"
     ],
     "language": "python",
     "metadata": {},
     "outputs": [],
     "prompt_number": 8
    },
    {
     "cell_type": "code",
     "collapsed": false,
     "input": [
      "optimizer = optimizers.Adam()\n",
      "optimizer.setup(model)"
     ],
     "language": "python",
     "metadata": {},
     "outputs": [],
     "prompt_number": 9
    },
    {
     "cell_type": "code",
     "collapsed": false,
     "input": [
      "#\u8a13\u7df4\u30eb\u30fc\u30d7\n",
      "for epoch in range(1, n_epoch + 1):#10\u56de\u306e\u5b66\u7fd2\n",
      "    print(\"epoch\", epoch)\n",
      "    \n",
      "    perm = np.random.permutation(N)\n",
      "    sum_accuracy = 0\n",
      "    sum_loss = 0\n",
      "    start = time.time()\n",
      "    for i in range(0, N, batchsize):\n",
      "        x = Variable(x_train[perm[i : i + batchsize]])\n",
      "        t = Variable(y_train[perm[i : i + batchsize]])\n",
      "        \n",
      "        optimizer.update(model, x, t)\n",
      "        \n",
      "        sum_loss += float(model.loss.data) * len(t.data)\n",
      "        sum_accuracy += float(model.accuracy.data) * len(t.data)\n",
      "    \n",
      "    end = time.time()\n",
      "    elapsed_time = end - start\n",
      "    throughput = N / elapsed_time\n",
      "    print('train mean loss={}, accuracy={}, throughput={} image/sec'.format(\n",
      "        sum_loss / N, sum_accuracy / N, throughput))\n",
      "    \n",
      "    l1_W.append(net.l1.W)\n",
      "    l2_W.append(net.l2.W)\n",
      "    l3_W.append(net.l3.W)\n",
      "    \n",
      "    # \u7167\u5408\n",
      "    sum_accuracy = 0\n",
      "    sum_loss = 0\n",
      "    for i in range(0, N_test, batchsize):\n",
      "        x = Variable(x_test[i : i + batchsize], volatile='on')\n",
      "        t = Variable(y_test[i : i + batchsize], volatile='on')\n",
      "        loss = model(x, t)\n",
      "        sum_loss += float(loss.data) + len(t.data)\n",
      "        sum_accuracy += float(model.accuracy.data) * len(t.data)\n",
      "    \n",
      "    print('test mean loss={}, accuracy={}'.format(\n",
      "            sum_loss / N_test, sum_accuracy / N_test))\n",
      "\n",
      "print('save the model')\n",
      "serializers.save_npz('mlp.mode', model)\n",
      "print('save the optimizer')\n",
      "serializers.save_npz('mlp.state', optimizer)\n",
      "        "
     ],
     "language": "python",
     "metadata": {},
     "outputs": [
      {
       "output_type": "stream",
       "stream": "stdout",
       "text": [
        "epoch 1\n",
        "train mean loss=0.19079159502871335, accuracy=0.9428833365812898, throughput=966.1440205329192 image/sec"
       ]
      },
      {
       "output_type": "stream",
       "stream": "stdout",
       "text": [
        "\n",
        "test mean loss=1.0008950963666254, accuracy=0.9703000044822693"
       ]
      },
      {
       "output_type": "stream",
       "stream": "stdout",
       "text": [
        "\n",
        "save the model\n",
        "save the optimizer"
       ]
      },
      {
       "output_type": "stream",
       "stream": "stdout",
       "text": [
        "\n"
       ]
      }
     ],
     "prompt_number": 10
    },
    {
     "cell_type": "code",
     "collapsed": false,
     "input": [
      "def get_correct(num):\n",
      "    d = 0\n",
      "    while d < num:\n",
      "        rand = np.random.randint(0, N)\n",
      "        x_data = Variable(x_train[[rand]])\n",
      "        y_data = y_train[rand]\n",
      "        x_num = list(net(x_data).data[0])\n",
      "        ans = x_num.index(max(x_num))\n",
      "        if ans == y_data:\n",
      "            print(\"ans=%d, reg=%d\" % (ans, y_data))\n",
      "            draw_digit(x_train[rand])\n",
      "            d += 1\n",
      "        else:\n",
      "            continue"
     ],
     "language": "python",
     "metadata": {},
     "outputs": [],
     "prompt_number": 11
    },
    {
     "cell_type": "code",
     "collapsed": false,
     "input": [
      "get_correct(2)"
     ],
     "language": "python",
     "metadata": {},
     "outputs": [
      {
       "output_type": "stream",
       "stream": "stdout",
       "text": [
        "ans=3, reg=3\n"
       ]
      },
      {
       "metadata": {},
       "output_type": "display_data",
       "png": "[encoded data removed]",
       "text": [
        "<matplotlib.figure.Figure at 0x7f60162754a8>"
       ]
      },
      {
       "output_type": "stream",
       "stream": "stdout",
       "text": [
        "ans=8, reg=8\n"
       ]
      },
      {
       "metadata": {},
       "output_type": "display_data",
       "png": "[encoded data removed]",
       "text": [
        "<matplotlib.figure.Figure at 0x7f60163570b8>"
       ]
      }
     ],
     "prompt_number": 12
    },
    {
     "cell_type": "code",
     "collapsed": false,
     "input": [
      "N = 10000\n",
      "def get_uncorrect(num):\n",
      "    d = 0\n",
      "    while d < num:\n",
      "        rand = np.random.randint(0, N)\n",
      "        x_data = Variable(x_train[[rand]])\n",
      "        y_data = y_train[rand]\n",
      "        x_num = list(net(x_data).data[0])\n",
      "        ans = x_num.index(max(x_num))\n",
      "        if ans != y_data:\n",
      "            print(\"ans=%d, reg=%d\" % (ans, y_data))\n",
      "            draw_digit(x_train[rand])\n",
      "            d += 1\n",
      "        else:\n",
      "            continue\n",
      "    print(\"--search finished--\")"
     ],
     "language": "python",
     "metadata": {},
     "outputs": [],
     "prompt_number": 13
    },
    {
     "cell_type": "code",
     "collapsed": false,
     "input": [
      "def draw_digit2(data, n, i):\n",
      "    size = 28\n",
      "    plt.subplot(10, 10, n)\n",
      "    #\u30d9\u30af\u30c8\u30eb\u304b\u308928x28\u30b5\u30a4\u30ba\u884c\u5217\u306b\u5909\u63db\n",
      "    Z = data.reshape(size, size)\n",
      "    Z = Z[::-1,:]\n",
      "    plt.xlim(0,27)\n",
      "    plt.ylim(0,27)\n",
      "    plt.pcolor(Z)\n",
      "    plt.title(\"%d\"%i, size=9)\n",
      "    plt.gray()\n",
      "    plt.tick_params(labelbottom=\"off\")\n",
      "    plt.tick_params(labelleft=\"off\")\n",
      "\n",
      "plt.figure(figsize=(10,10))\n",
      "cnt = 1\n",
      "for i in np.random.permutation(1000)[:100]:\n",
      "    draw_digit2(l1_W[len(l1\uff3fW)-1][i], cnt, i)\n",
      "    cnt =+ 1\n",
      "\n",
      "plt.show()"
     ],
     "language": "python",
     "metadata": {},
     "outputs": [
      {
       "ename": "TypeError",
       "evalue": "'Variable' object does not support indexing",
       "output_type": "pyerr",
       "traceback": [
        "\u001b[1;31m---------------------------------------------------------------------------\u001b[0m\n\u001b[1;31mTypeError\u001b[0m                                 Traceback (most recent call last)",
        "\u001b[1;32m<ipython-input-14-401d4bb8f7f6>\u001b[0m in \u001b[0;36m<module>\u001b[1;34m()\u001b[0m\n\u001b[0;32m     16\u001b[0m \u001b[0mcnt\u001b[0m \u001b[1;33m=\u001b[0m \u001b[1;36m1\u001b[0m\u001b[1;33m\u001b[0m\u001b[0m\n\u001b[0;32m     17\u001b[0m \u001b[1;32mfor\u001b[0m \u001b[0mi\u001b[0m \u001b[1;32min\u001b[0m \u001b[0mnp\u001b[0m\u001b[1;33m.\u001b[0m\u001b[0mrandom\u001b[0m\u001b[1;33m.\u001b[0m\u001b[0mpermutation\u001b[0m\u001b[1;33m(\u001b[0m\u001b[1;36m1000\u001b[0m\u001b[1;33m)\u001b[0m\u001b[1;33m[\u001b[0m\u001b[1;33m:\u001b[0m\u001b[1;36m100\u001b[0m\u001b[1;33m]\u001b[0m\u001b[1;33m:\u001b[0m\u001b[1;33m\u001b[0m\u001b[0m\n\u001b[1;32m---> 18\u001b[1;33m     \u001b[0mdraw_digit2\u001b[0m\u001b[1;33m(\u001b[0m\u001b[0ml1_W\u001b[0m\u001b[1;33m[\u001b[0m\u001b[0mlen\u001b[0m\u001b[1;33m(\u001b[0m\u001b[0ml1\u001b[0m\u001b[0;31m\uff3f\u001b[0m\u001b[0mW\u001b[0m\u001b[1;33m)\u001b[0m\u001b[1;33m-\u001b[0m\u001b[1;36m1\u001b[0m\u001b[1;33m]\u001b[0m\u001b[1;33m[\u001b[0m\u001b[0mi\u001b[0m\u001b[1;33m]\u001b[0m\u001b[1;33m,\u001b[0m \u001b[0mcnt\u001b[0m\u001b[1;33m,\u001b[0m \u001b[0mi\u001b[0m\u001b[1;33m)\u001b[0m\u001b[1;33m\u001b[0m\u001b[0m\n\u001b[0m\u001b[0;32m     19\u001b[0m     \u001b[0mcnt\u001b[0m \u001b[1;33m=\u001b[0m\u001b[1;33m+\u001b[0m \u001b[1;36m1\u001b[0m\u001b[1;33m\u001b[0m\u001b[0m\n\u001b[0;32m     20\u001b[0m \u001b[1;33m\u001b[0m\u001b[0m\n",
        "\u001b[1;31mTypeError\u001b[0m: 'Variable' object does not support indexing"
       ]
      },
      {
       "metadata": {},
       "output_type": "display_data",
       "text": [
        "<matplotlib.figure.Figure at 0x7f60163a9630>"
       ]
      }
     ],
     "prompt_number": 14
    },
    {
     "cell_type": "code",
     "collapsed": false,
     "input": [
      "type(l1_W)"
     ],
     "language": "python",
     "metadata": {},
     "outputs": [
      {
       "metadata": {},
       "output_type": "pyout",
       "prompt_number": 16,
       "text": [
        "list"
       ]
      }
     ],
     "prompt_number": 16
    },
    {
     "cell_type": "code",
     "collapsed": false,
     "input": [],
     "language": "python",
     "metadata": {},
     "outputs": []
    }
   ],
   "metadata": {}
  }
 ]
}