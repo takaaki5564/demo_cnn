{
 "metadata": {
  "name": "",
  "signature": "sha256:d60093b6d4a89d0714dc31278269ad3386902b24afa132179fce1a21ec934416"
 },
 "nbformat": 3,
 "nbformat_minor": 0,
 "worksheets": [
  {
   "cells": [
    {
     "cell_type": "code",
     "collapsed": false,
     "input": [
      "#\u30b5\u30f3\u30d7\u30eb\u30b3\u30fc\u30c9\u3067\u983b\u51fa\u306eimport\u6587\n",
      "import numpy as np #\u3088\u304f\u4f7f\u3046\u6570\u5b66\u30e9\u30a4\u30d6\u30e9\u30ea\n",
      "import chainer\n",
      "from chainer import cuda, Function, gradient_check\n",
      "from chainer import report, training, utils, Variable\n",
      "from chainer import datasets, iterators, optimizers, serializers\n",
      "from chainer import Link, Chain, ChainList\n",
      "import chainer.functions as F\n",
      "import chainer.links as L\n",
      "from chainer.training import extensions"
     ],
     "language": "python",
     "metadata": {},
     "outputs": [],
     "prompt_number": 2
    },
    {
     "cell_type": "code",
     "collapsed": false,
     "input": [
      "x = Variable(np.array([[1, 2, 3],[4, 5, 6]], dtype=np.float32))\n",
      "y = x**2 - 2*x + 1 #dy/dx=2*x-2\n",
      "y.grad = np.ones((2,3), dtype=np.float32) #\u8907\u6570\u8981\u7d20\u306e\u5834\u5408\u3001\u521d\u671f\u5024\u3092\u5165\u529b\n",
      "y.backward()\n",
      "x.grad"
     ],
     "language": "python",
     "metadata": {},
     "outputs": [
      {
       "metadata": {},
       "output_type": "pyout",
       "prompt_number": 2,
       "text": [
        "array([[  0.,   2.,   4.],\n",
        "       [  6.,   8.,  10.]], dtype=float32)"
       ]
      }
     ],
     "prompt_number": 2
    },
    {
     "cell_type": "code",
     "collapsed": false,
     "input": [
      "l = L.Linear(3,2) #\uff13\u6b21\u5143\u304b\u3089\uff12\u6b21\u5143\u3078\u306e\u7dda\u5f62\u30ea\u30f3\u30af"
     ],
     "language": "python",
     "metadata": {},
     "outputs": [],
     "prompt_number": 12
    },
    {
     "cell_type": "code",
     "collapsed": false,
     "input": [
      "l.W.data #\u91cd\u307f\u306f\u30e9\u30f3\u30c0\u30e0\u306b\u521d\u671f\u5316\u3055\u308c\u308b"
     ],
     "language": "python",
     "metadata": {},
     "outputs": [
      {
       "metadata": {},
       "output_type": "pyout",
       "prompt_number": 14,
       "text": [
        "array([[ 0.26146361, -0.31605172,  0.17219009],\n",
        "       [-0.57160896,  0.28610784, -1.16388071]], dtype=float32)"
       ]
      }
     ],
     "prompt_number": 14
    },
    {
     "cell_type": "code",
     "collapsed": false,
     "input": [
      "l.b.data #\u4e26\u9032\u30d9\u30af\u30c8\u30ebb\u306f0\u3067\u521d\u671f\u5316\u3055\u308c\u308b"
     ],
     "language": "python",
     "metadata": {},
     "outputs": [
      {
       "metadata": {},
       "output_type": "pyout",
       "prompt_number": 15,
       "text": [
        "array([ 0.,  0.], dtype=float32)"
       ]
      }
     ],
     "prompt_number": 15
    },
    {
     "cell_type": "code",
     "collapsed": false,
     "input": [
      "x = Variable(np.array([[1,2,3],[4,5,6]],dtype=np.float32))\n",
      "y = l(x)\n",
      "y.data"
     ],
     "language": "python",
     "metadata": {},
     "outputs": [
      {
       "metadata": {},
       "output_type": "pyout",
       "prompt_number": 16,
       "text": [
        "array([[ 0.14593044, -3.49103522],\n",
        "       [ 0.49873638, -7.83918095]], dtype=float32)"
       ]
      }
     ],
     "prompt_number": 16
    },
    {
     "cell_type": "code",
     "collapsed": false,
     "input": [
      "l.zerograds()"
     ],
     "language": "python",
     "metadata": {},
     "outputs": [],
     "prompt_number": 18
    },
    {
     "cell_type": "code",
     "collapsed": false,
     "input": [
      "y.grad = np.ones((2,2), dtype=np.float32)\n",
      "y.backward()\n",
      "l.W.grad"
     ],
     "language": "python",
     "metadata": {},
     "outputs": [
      {
       "ename": "NameError",
       "evalue": "name 'np' is not defined",
       "output_type": "pyerr",
       "traceback": [
        "\u001b[1;31m---------------------------------------------------------------------------\u001b[0m\n\u001b[1;31mNameError\u001b[0m                                 Traceback (most recent call last)",
        "\u001b[1;32m<ipython-input-1-8958dc44d1c6>\u001b[0m in \u001b[0;36m<module>\u001b[1;34m()\u001b[0m\n\u001b[1;32m----> 1\u001b[1;33m \u001b[0my\u001b[0m\u001b[1;33m.\u001b[0m\u001b[0mgrad\u001b[0m \u001b[1;33m=\u001b[0m \u001b[0mnp\u001b[0m\u001b[1;33m.\u001b[0m\u001b[0mones\u001b[0m\u001b[1;33m(\u001b[0m\u001b[1;33m(\u001b[0m\u001b[1;36m2\u001b[0m\u001b[1;33m,\u001b[0m\u001b[1;36m2\u001b[0m\u001b[1;33m)\u001b[0m\u001b[1;33m,\u001b[0m \u001b[0mdtype\u001b[0m\u001b[1;33m=\u001b[0m\u001b[0mnp\u001b[0m\u001b[1;33m.\u001b[0m\u001b[0mfloat32\u001b[0m\u001b[1;33m)\u001b[0m\u001b[1;33m\u001b[0m\u001b[0m\n\u001b[0m\u001b[0;32m      2\u001b[0m \u001b[0my\u001b[0m\u001b[1;33m.\u001b[0m\u001b[0mbackward\u001b[0m\u001b[1;33m(\u001b[0m\u001b[1;33m)\u001b[0m\u001b[1;33m\u001b[0m\u001b[0m\n\u001b[0;32m      3\u001b[0m \u001b[0ml\u001b[0m\u001b[1;33m.\u001b[0m\u001b[0mW\u001b[0m\u001b[1;33m.\u001b[0m\u001b[0mgrad\u001b[0m\u001b[1;33m\u001b[0m\u001b[0m\n",
        "\u001b[1;31mNameError\u001b[0m: name 'np' is not defined"
       ]
      }
     ],
     "prompt_number": 1
    },
    {
     "cell_type": "code",
     "collapsed": false,
     "input": [],
     "language": "python",
     "metadata": {},
     "outputs": []
    }
   ],
   "metadata": {}
  }
 ]
}