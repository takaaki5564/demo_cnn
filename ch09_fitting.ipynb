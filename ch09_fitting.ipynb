{
 "metadata": {
  "name": "",
  "signature": "sha256:56e48d802f2cba23f3fd66fad3495da28b466132db9e12b093f7b9522a77c186"
 },
 "nbformat": 3,
 "nbformat_minor": 0,
 "worksheets": [
  {
   "cells": [
    {
     "cell_type": "code",
     "collapsed": false,
     "input": [
      "import numpy as np\n",
      "import chainer\n",
      "from chainer import cuda, Function, gradient_check, Variable\n",
      "from chainer import optimizers, serializers, utils\n",
      "from chainer import Link, Chain, ChainList\n",
      "import chainer.function as F\n",
      "import chainer.links as L\n",
      "\n",
      "from matplotlib import pyplot as plt\n",
      "%matplotlib inline"
     ],
     "language": "python",
     "metadata": {},
     "outputs": [],
     "prompt_number": 1
    },
    {
     "cell_type": "code",
     "collapsed": false,
     "input": [
      "#\u30d0\u30c3\u30c1\u51e6\u7406\u3067\u306fn\u500b\u305a\u3064\u51e6\u7406\u3092\u884c\u3046\n",
      "#n\u500b\u306e\u554f\u984c\u3068\u89e3\u7b54\u306e\u30bb\u30c3\u30c8\u3092\u8fd4\u3059\u95a2\u6570\u304c\u3042\u308b\u3068\u4fbf\u5229\n",
      "def get_batch(n):\n",
      "    x = np.random.random(n) #\u30e9\u30f3\u30c0\u30e0\u306a\u6570\u306e\u4e00\u6b21\u5143\u914d\u5217\u306b\u5bfe\u3057\u3066\n",
      "    y = np.exp(x)           #e^x\u3092\u8a08\u7b97\u3057\u3066\u4e00\u6b21\u5143\u914d\u5217\u3067\u8fd4\u3059\n",
      "    return x, y"
     ],
     "language": "python",
     "metadata": {},
     "outputs": [],
     "prompt_number": 2
    },
    {
     "cell_type": "code",
     "collapsed": false,
     "input": [
      "print(get_batch(2))"
     ],
     "language": "python",
     "metadata": {},
     "outputs": [
      {
       "output_type": "stream",
       "stream": "stdout",
       "text": [
        "(array([ 0.15201376,  0.40127783]), array([ 1.16417625,  1.49373221]))\n"
       ]
      }
     ],
     "prompt_number": 3
    },
    {
     "cell_type": "code",
     "collapsed": false,
     "input": [
      "class MyChain(Chain):\n",
      "    def __init__(self):\n",
      "        #\u30b5\u30d6\u30af\u30e9\u30b9\u304b\u3089\u30b9\u30fc\u30d1\u30fc\u30af\u30e9\u30b9\u306e\u30e1\u30f3\u30d0\u3092\u547c\u3073\u51fa\u3059\n",
      "        super(MyChain, self).__init__(\n",
      "            l1 = L.Linear(1, 16),  #\u5927\u6587\u5b57\u59cb\u307e\u308a\u306eLinear\u306f\n",
      "            l2 = L.Linear(16, 32), #\u30d1\u30e9\u30e1\u30fc\u30bf\u8abf\u6574\u3092\u884c\u3046\n",
      "            l3 = L.Linear(32, 1),  #\u5165\u529b16ch, \u51fa\u529b32ch\n",
      "        )\n",
      "    \n",
      "    #\u30d1\u30e9\u30e1\u30fc\u30bf\u3092\u542b\u307e\u306a\u3044\u95a2\u6570\u306e\u5b9a\u7fa9\u306f__call__\u30e1\u30bd\u30c3\u30c9\u3092\u4f7f\u7528\n",
      "    def __call__(self, x, t):\n",
      "        #x\u3092\u5165\u529b\u3057\u305f\u969b\u306e\u30cd\u30c3\u30c8\u30ef\u30fc\u30af\u51fa\u529b\u3068\u89e3\u7b54t\u3068\u306e\n",
      "        #\u5dee\u5206\u3092\u8fd4\u3059\u3002\u4eca\u56de\u306f\u81ea\u4e57\u8aa4\u5dee\u3092\u4f7f\u7528\u3002\n",
      "        return F.mean_square_error(self.predict(x), t)\n",
      "    \n",
      "    def predict(self, x):\n",
      "        #x\u3092\u5165\u529b\u3057\u305f\u969b\u306e\u30cd\u30c3\u30c8\u30ef\u30fc\u30af\u51fa\u529b\u3092\u8fd4\u3059\n",
      "        h1 = F.leaky_relu(self.l1(x))\n",
      "        h2 = F.leaky_relu(self.l2(h1))\n",
      "        h3 = F.leaky_relu(self.l3(h2))\n",
      "        return h3\n",
      "    \n",
      "    def get(self, x):\n",
      "        #x\u3092\u5b9f\u6570\u3067\u5165\u529b\u3057\u305f\u3089\u51fa\u529b\u3092\u5b9f\u6570\u3067\u8fd4\u3059\u95a2\u6570\n",
      "        #numpy.ndarray, Variable\u3092\u7d4c\u7531\u3059\u308b\n",
      "        return self.predict(Variable(np.array([x]).astype(np.float32).reshape(1,1))).data[0][0]\n"
     ],
     "language": "python",
     "metadata": {},
     "outputs": [],
     "prompt_number": 4
    },
    {
     "cell_type": "code",
     "collapsed": false,
     "input": [
      "model = MyChain()\n",
      "optimizer = optimizers.Adam()\n",
      "optimizer.setup(model)"
     ],
     "language": "python",
     "metadata": {},
     "outputs": [],
     "prompt_number": 5
    },
    {
     "cell_type": "code",
     "collapsed": false,
     "input": [],
     "language": "python",
     "metadata": {},
     "outputs": []
    }
   ],
   "metadata": {}
  }
 ]
}